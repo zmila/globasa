{
 "cells": [
  {
   "cell_type": "code",
   "execution_count": null,
   "metadata": {},
   "outputs": [],
   "source": [
    "# use Python 3.10.12\n",
    "\n",
    "import re\n",
    "import pandas as pd\n",
    "import matplotlib.pyplot as plt\n"
   ]
  },
  {
   "cell_type": "code",
   "execution_count": null,
   "metadata": {},
   "outputs": [
    {
     "name": "stdout",
     "output_type": "stream",
     "text": [
      "Loaded ./texts.txt - length: 672 lines, 63003 characters\n"
     ]
    }
   ],
   "source": [
    "texts_file_name = './data/texts.txt'\n",
    "\n",
    "def get_text(file_name):\n",
    "    with open(file_name, 'r') as file:\n",
    "        return file.readlines()\n",
    "\n",
    "source_text = get_text(texts_file_name)\n",
    "print(f'Loaded {texts_file_name} - length: {len(source_text)} lines, {len(\"\".join(source_text))} characters')\n",
    "    \n",
    "# Loaded ./texts.txt - length: 672 lines, 63003 characters\n"
   ]
  },
  {
   "cell_type": "code",
   "execution_count": null,
   "metadata": {},
   "outputs": [
    {
     "name": "stdout",
     "output_type": "stream",
     "text": [
      "Text without punctuation and digits: 60385\n",
      "\tmi xidu na eskri yon ordinari lexi ji jandan jumle denpul eskri sen maxmo asan na doxo ji folki bant\n",
      "\t...\n",
      "\tm multi risi ji xosu patato bete xa yam xosu risi ji multi patato patre xa yam multi risi ji patato \n",
      "Count of spaces: 12698, count of chars: 47687\n"
     ]
    }
   ],
   "source": [
    "\n",
    "def clean_text(text):\n",
    "    cleaned_text = [re.sub(r'[^a-zA-Z]+', ' ', t).lower() for t in text]\n",
    "    cleaned_text = ' '.join(cleaned_text)\n",
    "    return cleaned_text\n",
    "\n",
    "text = clean_text(source_text)\n",
    "\n",
    "print(f'Text without punctuation and digits: {len(text)}')\n",
    "print(f'\\t{text[:100]}\\n\\t...\\n\\t{text[-100:]}')\n",
    "\n",
    "space_count = text.count(' ')\n",
    "print(f'Count of spaces: {space_count}, count of chars: {len(text) - space_count}')\n",
    "\n",
    "# Text without punctuation and digits: 60385\n",
    "# \tmi xidu na eskri yon ordinari lexi ji jandan jumle denpul eskri sen maxmo asan na doxo ji folki bant\n",
    "# \t...\n",
    "# \tm multi risi ji xosu patato bete xa yam xosu risi ji multi patato patre xa yam multi risi ji patato \n",
    "# Count of spaces: 12698, count of chars: 47687"
   ]
  },
  {
   "cell_type": "code",
   "execution_count": null,
   "metadata": {},
   "outputs": [
    {
     "name": "stdout",
     "output_type": "stream",
     "text": [
      "Total words count = 11813\n",
      "First 10 words: ['mi', 'xidu', 'na', 'eskri', 'yon', 'ordinari', 'lexi', 'ji', 'jandan', 'jumle']\n",
      "Last 10 words: ['ji', 'multi', 'patato', 'patre', 'xa', 'yam', 'multi', 'risi', 'ji', 'patato']\n"
     ]
    }
   ],
   "source": [
    "def get_words(text):\n",
    "    return text.split()\n",
    "\n",
    "all_words = get_words(text)\n",
    "print(f'Total words count = {len(all_words)}')\n",
    "print('First 10 words:', all_words[:10])\n",
    "print('Last 10 words:', all_words[-10:])\n",
    "\n",
    "\n",
    "# Total words count = 11813\n",
    "# First 10 words: ['mi', 'xidu', 'na', 'eskri', 'yon', 'ordinari', 'lexi', 'ji', 'jandan', 'jumle']\n",
    "# Last 10 words: ['ji', 'multi', 'patato', 'patre', 'xa', 'yam', 'multi', 'risi', 'ji', 'patato']"
   ]
  },
  {
   "cell_type": "code",
   "execution_count": null,
   "metadata": {},
   "outputs": [
    {
     "name": "stdout",
     "output_type": "stream",
     "text": [
      "Count of unique words = 1672\n"
     ]
    }
   ],
   "source": [
    "def get_words_frequency(words):\n",
    "    frequency = {}\n",
    "    for word in words:\n",
    "        if word in frequency:\n",
    "            frequency[word] += 1\n",
    "        else:\n",
    "            frequency[word] = 1\n",
    "    return frequency\n",
    "\n",
    "words_frequency = get_words_frequency(all_words)\n",
    "print(f'Count of unique words = {len(words_frequency)}')\n",
    "\n",
    "# Count of unique words = 1672"
   ]
  },
  {
   "cell_type": "code",
   "execution_count": null,
   "metadata": {},
   "outputs": [
    {
     "name": "stdout",
     "output_type": "stream",
     "text": [
      "Top 20 frequent words: [('na', 369), ('ji', 356), ('le', 350), ('sen', 331), ('mi', 305), ('fe', 284), ('te', 268), ('hu', 185), ('no', 181), ('to', 161), ('de', 122), ('ki', 118), ('in', 117), ('ete', 114), ('am', 114), ('da', 113), ('yu', 113), ('cel', 111), ('mas', 93), ('tas', 87)]\n",
      "Count of unique words ending with a vowel: 1155\n",
      "Total count of words ending with a vowel: 8357\n",
      "Count of unique words ending with a consonant: 517\n",
      "Total count of words ending with a consonant: 3456\n"
     ]
    }
   ],
   "source": [
    "def print_words_stats(words_frequency):\n",
    "    sorted_words = sorted(words_frequency.items(), key=lambda item: item[1], reverse=True)\n",
    "    top_20_words = sorted_words[:20]\n",
    "    print('Top 20 frequent words:', top_20_words)\n",
    "    \n",
    "    vowel_ending_words = {word: count for word, count in words_frequency.items() if word[-1] in 'aeiou'}\n",
    "    unique_vowel_ending_words_count = len(vowel_ending_words)\n",
    "    total_vowel_ending_words_count = sum(vowel_ending_words.values())\n",
    "\n",
    "    print(f'Count of unique words ending with a vowel: {unique_vowel_ending_words_count}')\n",
    "    print(f'Total count of words ending with a vowel: {total_vowel_ending_words_count}')\n",
    "\n",
    "    consonant_ending_words = {word: count for word, count in words_frequency.items() if word[-1] not in 'aeiou'}\n",
    "    unique_consonant_ending_words_count = len(consonant_ending_words)\n",
    "    total_consonant_ending_words_count = sum(consonant_ending_words.values())\n",
    "\n",
    "    print(f'Count of unique words ending with a consonant: {unique_consonant_ending_words_count}')\n",
    "    print(f'Total count of words ending with a consonant: {total_consonant_ending_words_count}')\n",
    "    \n",
    "print_words_stats(words_frequency)\n",
    "\n",
    "# Top 20 frequent words: [('na', 369), ('ji', 356), ('le', 350), ('sen', 331), ('mi', 305), ('fe', 284), ('te', 268), ('hu', 185), ('no', 181), ('to', 161), ('de', 122), ('ki', 118), ('in', 117), ('ete', 114), ('am', 114), ('da', 113), ('yu', 113), ('cel', 111), ('mas', 93), ('tas', 87)]\n",
    "# Count of unique words ending with a vowel: 1155\n",
    "# Total count of words ending with a vowel: 8357\n",
    "# Count of unique words ending with a consonant: 517\n",
    "# Total count of words ending with a consonant: 3456\n"
   ]
  },
  {
   "cell_type": "code",
   "execution_count": null,
   "metadata": {},
   "outputs": [
    {
     "name": "stdout",
     "output_type": "stream",
     "text": [
      "Total characters count = 47687\n",
      "a: 5934: 12.44\n",
      "e: 4761: 9.98\n",
      "i: 4155: 8.71\n",
      "o: 3731: 7.82\n",
      "n: 3420: 7.17\n",
      "u: 2857: 5.99\n",
      "l: 2616: 5.49\n",
      "m: 2397: 5.03\n",
      "s: 2286: 4.79\n",
      "t: 2169: 4.55\n",
      "r: 1936: 4.06\n",
      "k: 1537: 3.22\n",
      "d: 1374: 2.88\n",
      "y: 1334: 2.80\n",
      "b: 1016: 2.13\n",
      "h: 989: 2.07\n",
      "f: 949: 1.99\n",
      "j: 810: 1.70\n",
      "p: 804: 1.69\n",
      "x: 754: 1.58\n",
      "g: 708: 1.48\n",
      "w: 514: 1.08\n",
      "c: 398: 0.83\n",
      "v: 159: 0.33\n",
      "z: 79: 0.17\n"
     ]
    }
   ],
   "source": [
    "def get_chars_frequency(words):\n",
    "    frequency = {}\n",
    "    for word in words:\n",
    "        for char in word:\n",
    "            case_insensitive_char = char.lower()\n",
    "            if case_insensitive_char in frequency:\n",
    "                frequency[case_insensitive_char] += 1\n",
    "            else:\n",
    "                frequency[case_insensitive_char] = 1\n",
    "    return frequency\n",
    "\n",
    "chars_frequency = get_chars_frequency(all_words)\n",
    "\n",
    "def print_char_frequencies(chars_frequency):\n",
    "    total_chars = sum(chars_frequency.values())\n",
    "    print(f'Total characters count = {total_chars}')\n",
    "\n",
    "    for char, count in sorted(chars_frequency.items(), key=lambda item: item[1], reverse=True):\n",
    "        percentage = (count / total_chars) * 100\n",
    "        print(f'{char}: {count}: {percentage:.2f}')\n",
    "        \n",
    "print_char_frequencies(chars_frequency)\n",
    "\n",
    "# Total characters count = 47687\n",
    "# a: 5934: 12.44\n",
    "# e: 4761: 9.98\n",
    "# i: 4155: 8.71\n",
    "# o: 3731: 7.82\n",
    "# n: 3420: 7.17\n",
    "# u: 2857: 5.99\n",
    "# l: 2616: 5.49\n",
    "# m: 2397: 5.03\n",
    "# s: 2286: 4.79\n",
    "# t: 2169: 4.55\n",
    "# r: 1936: 4.06\n",
    "# k: 1537: 3.22\n",
    "# d: 1374: 2.88\n",
    "# y: 1334: 2.80\n",
    "# b: 1016: 2.13\n",
    "# h: 989: 2.07\n",
    "# f: 949: 1.99\n",
    "# j: 810: 1.70\n",
    "# p: 804: 1.69\n",
    "# x: 754: 1.58\n",
    "# g: 708: 1.48\n",
    "# w: 514: 1.08\n",
    "# c: 398: 0.83\n",
    "# v: 159: 0.33\n",
    "# z: 79: 0.17\n",
    "\n"
   ]
  },
  {
   "cell_type": "code",
   "execution_count": 9,
   "metadata": {},
   "outputs": [
    {
     "data": {
      "image/png": "[encoded data removed]",
      "text/plain": [
       "<Figure size 640x480 with 1 Axes>"
      ]
     },
     "metadata": {},
     "output_type": "display_data"
    }
   ],
   "source": [
    "# pip install matplotlib\n",
    "\n",
    "\n",
    "\n",
    "sorted_chars_frequency = sorted(chars_frequency.items(), key=lambda item: item[1], reverse=True)\n",
    "letters = [item[0] for item in sorted_chars_frequency]\n",
    "frequencies = [item[1] for item in sorted_chars_frequency]\n",
    "\n",
    "# letters = list(chars_frequency.keys())\n",
    "# frequencies = list(chars_frequency.values())\n",
    "\n",
    "plt.bar(letters, frequencies)\n",
    "plt.xlabel('Letters')\n",
    "plt.ylabel('Frequency')\n",
    "plt.title('Letter Frequency Distribution')\n",
    "plt.show()"
   ]
  }
 ],
 "metadata": {
  "kernelspec": {
   "display_name": "usr",
   "language": "python",
   "name": "python3"
  },
  "language_info": {
   "codemirror_mode": {
    "name": "ipython",
    "version": 3
   },
   "file_extension": ".py",
   "mimetype": "text/x-python",
   "name": "python",
   "nbconvert_exporter": "python",
   "pygments_lexer": "ipython3",
   "version": "3.10.12"
  }
 },
 "nbformat": 4,
 "nbformat_minor": 4
}
